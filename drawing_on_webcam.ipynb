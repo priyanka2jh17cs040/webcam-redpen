{
 "cells": [
  {
   "cell_type": "code",
   "execution_count": 1,
   "metadata": {},
   "outputs": [],
   "source": [
    "import cv2\n",
    "import numpy as np"
   ]
  },
  {
   "cell_type": "code",
   "execution_count": 8,
   "metadata": {},
   "outputs": [],
   "source": [
    "def empty(a):\n",
    "    pass\n",
    "\n",
    "video = cv2.VideoCapture(0)\n",
    "video.set(3,1000)      #3 is id for length \n",
    "video.set(4,1000)      #4 is id for breadth  \n",
    "video.set(10,300)     #10 is id for brightness\n",
    "\n",
    "def getcontours(img):\n",
    "    img_hsv = cv2.cvtColor(img,cv2.COLOR_BGR2HSV)\n",
    "    \n",
    "    lower = np.array([0,176,177])\n",
    "    upper = np.array([179,255,255])\n",
    "    \n",
    "    mask = cv2.inRange(img_hsv,lower,upper)\n",
    "    contour,heirarchy = cv2.findContours(mask,cv2.RETR_EXTERNAL,cv2.CHAIN_APPROX_NONE)\n",
    "    x ,y, w, h = 0,0,0,0\n",
    "    for ctr in contour:\n",
    "        peri = cv2.arcLength(ctr,True)\n",
    "\n",
    "        approx = cv2.approxPolyDP(ctr,0.01*peri,True)\n",
    "        if cv2.contourArea(ctr)>200:\n",
    "            x, y, w, h = cv2.boundingRect(approx)\n",
    "        \n",
    "    return x+w,y\n",
    "\n",
    "def getpoint(img):\n",
    "    allpoints=[]\n",
    "    x,y = getcontours(img)\n",
    "    cv2.circle(img,(x,y),5,(0,165,255),cv2.FILLED)\n",
    "    if x!=0 and y!=0:\n",
    "        allpoints.append([x,y])\n",
    "    return allpoints\n",
    "\n",
    "def drawoncam(img,points):\n",
    "    for pts in points:\n",
    "        cv2.circle(img,(pts[0],pts[1]),10,(0,165,255),cv2.FILLED)\n",
    "\n",
    "allpoints = []\n",
    "        \n",
    "while True:\n",
    "    success , img_webcam = video.read()\n",
    "    img_webcam = cv2.flip(img_webcam,1)\n",
    "    \n",
    "    points = getpoint(img_webcam)\n",
    "    if len(points)!=0:\n",
    "        for pts in points:\n",
    "            allpoints.append(pts)\n",
    "    if len(allpoints)!=0:\n",
    "        drawoncam(img_webcam,allpoints)\n",
    "    \n",
    "    cv2.imshow(\"video\",img_webcam)\n",
    "    \n",
    "    if cv2.waitKey(1) & 0xFF==ord('q'):\n",
    "        cv2.destroyAllWindows()\n",
    "        break"
   ]
  },
  {
   "cell_type": "code",
   "execution_count": null,
   "metadata": {},
   "outputs": [],
   "source": [
    "\n"
   ]
  }
 ],
 "metadata": {
  "kernelspec": {
   "display_name": "Python 3",
   "language": "python",
   "name": "python3"
  },
  "language_info": {
   "codemirror_mode": {
    "name": "ipython",
    "version": 3
   },
   "file_extension": ".py",
   "mimetype": "text/x-python",
   "name": "python",
   "nbconvert_exporter": "python",
   "pygments_lexer": "ipython3",
   "version": "3.7.3"
  }
 },
 "nbformat": 4,
 "nbformat_minor": 2
}